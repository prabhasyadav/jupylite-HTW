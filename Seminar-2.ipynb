{
 "cells": [
  {
   "cell_type": "code",
   "execution_count": 11,
   "metadata": {
    "ExecuteTime": {
     "end_time": "2022-10-20T12:28:50.337566Z",
     "start_time": "2022-10-20T12:28:50.326264Z"
    },
    "slideshow": {
     "slide_type": "slide"
    }
   },
   "outputs": [],
   "source": [
    "import numpy as np"
   ]
  },
  {
   "cell_type": "markdown",
   "metadata": {
    "slideshow": {
     "slide_type": "slide"
    }
   },
   "source": [
    "# Seminar 2 #\n",
    "\n",
    " 1. **Fundamental of Hydrostatics**\n",
    " 2. **Forces on submerged surfaces**\n",
    " 3. **Pressure and buoyancy**\n",
    "\n"
   ]
  },
  {
   "cell_type": "markdown",
   "metadata": {
    "slideshow": {
     "slide_type": "slide"
    }
   },
   "source": [
    "\n",
    "### Problem 1\n",
    "Rectangular container of a width of 1 m and a length of 2 m is filled to a depth of 0.6 m with oil.\n",
    "Calculate the pressure at the bottom of the tank. What is the weight of the oil? Assume specific weight of the oil is 8000 N/m$^3$.\n"
   ]
  },
  {
   "cell_type": "markdown",
   "metadata": {
    "slideshow": {
     "slide_type": "subslide"
    }
   },
   "source": [
    "\n",
    "### Solution of Problem 1\n",
    "\n",
    "The liquid is OIL in the problem. The main equations are:\n",
    "\n",
    "$$ P = \\rho \\cdot g \\cdot h$$\n",
    "\n",
    "$$\n",
    "P_{abs} = P_{atm} + P_{gage}\n",
    "$$\n",
    "\n",
    "$$ \\gamma = \\rho \\cdot g = \\frac{M}{V}\\cdot g = \\frac{W}{V\\cdot g} \\cdot g = \\frac{W}{V} $$\n",
    "\n",
    "$$\n",
    "W = \\gamma  V\n",
    "$$\n",
    "\n",
    "\n",
    "\n",
    "with $\\gamma$ = specific weight (N/m<sup>3</sup>), and $M$ is mass (Kg), $W$ is weight (N) and $V$ volume (m<sup>3</sup>). \n",
    "\n",
    "other available information are:"
   ]
  },
  {
   "cell_type": "code",
   "execution_count": 3,
   "metadata": {
    "ExecuteTime": {
     "end_time": "2022-10-20T11:32:19.843209Z",
     "start_time": "2022-10-20T11:32:19.821786Z"
    },
    "slideshow": {
     "slide_type": "subslide"
    }
   },
   "outputs": [
    {
     "name": "stdout",
     "output_type": "stream",
     "text": [
      "The pressure of the tank is 106100.00 N/m² \n",
      "\n",
      "The Weight of the oil in the tank is 10200.00 N\n"
     ]
    }
   ],
   "source": [
    "#Given,\n",
    "\n",
    "ga1 = 8500 # N/m^3, specific weight of oil\n",
    "W1 = 1 # m, width of the tank\n",
    "L1 = 2 # m, length of the tank\n",
    "H1 = 0.6 # m, oil depth in the tank\n",
    "g = 9.81 # m/s^2, earth's gravity\n",
    "P1_atm = 101000 # N/m^2, Standard atmospheric pressure\n",
    "\n",
    "# interim calculation\n",
    "V1 = L1*W1*H1 # m^3, filled volume of the tank\n",
    "P1_oi1 = ga1*H1 #N/m^2, gamma*h\n",
    "\n",
    "#Calculations\n",
    "P1_abs = P1_atm + P1_oi1\n",
    "W1_o= ga1* V1\n",
    "\n",
    "# output\n",
    "print(\"The pressure of the tank is {0:1.2f}\".format(P1_abs),\"N/m\\u00b2\", \"\\n\")\n",
    "print(\"The Weight of the oil in the tank is {0:1.2f}\".format(W1_o),\"N\")  "
   ]
  },
  {
   "cell_type": "markdown",
   "metadata": {
    "slideshow": {
     "slide_type": "slide"
    }
   },
   "source": [
    "\n",
    "### Problem 2 - Vertically submerged tank\n",
    "\n",
    "Given the following rectangular gate with $h_1 = 1$ m, $L = 2$ m and $D=3$ m  :\n",
    "\n",
    "<img src=\"figures/S2-fig1.png\" alt=\"Rectangular Tank\" width=\"420\">\n",
    "\n",
    "Determine for water:\n",
    "\n",
    "1. Pressure at the bottom of the gate\n",
    "2. resultant hydrostatic forces \n",
    "3. depth at which the resultant force acts"
   ]
  },
  {
   "cell_type": "markdown",
   "metadata": {
    "slideshow": {
     "slide_type": "subslide"
    }
   },
   "source": [
    "### Solution of Problem 2 ###\n",
    "\n",
    "The relevant equations are (check slides 18 - 20 of L2):\n",
    "\n",
    "$$\n",
    "F_r = \\rho\\cdot g \\cdot h_g \\cdot A\n",
    "$$\n",
    "\n",
    "$$\n",
    "h_g = h_1 + \\frac{D}{2}\n",
    "$$\n",
    "and\n",
    "\n",
    "$$\n",
    "h_p = \\Bigg(\\frac{I_g}{A\\cdot h_g}\\Bigg) + h_g\n",
    "$$\n",
    "\n",
    "with $I_g = \\frac{L \\cdot D^3}{12}$.\n",
    "\n",
    "Information provided in the problem are:\n",
    "\n"
   ]
  },
  {
   "cell_type": "code",
   "execution_count": 2,
   "metadata": {
    "ExecuteTime": {
     "end_time": "2022-10-20T11:44:06.077313Z",
     "start_time": "2022-10-20T11:44:06.064280Z"
    },
    "slideshow": {
     "slide_type": "subslide"
    }
   },
   "outputs": [
    {
     "name": "stdout",
     "output_type": "stream",
     "text": [
      "The pressure of tank bottom is 39240.0000 N/m² \n",
      "\n",
      "The resultant force in the tank is 147150.00 N \n",
      "\n",
      "The location of resultant force is 2.80 m\n"
     ]
    },
    {
     "data": {
      "text/plain": [
       "39240.0"
      ]
     },
     "execution_count": 2,
     "metadata": {},
     "output_type": "execute_result"
    }
   ],
   "source": [
    "# Given are\n",
    "\n",
    "dy2 = 1000 # kg/m^3, water density\n",
    "g2 = 9.81 # m/s^2\n",
    "h2_1 = 1 # m, height from surface to gate top\n",
    "D2 = 3 # m, depth of the tank\n",
    "L2 = 2 # m, Length of tank\n",
    "\n",
    "# interim calculation\n",
    "A2 = L2*D2 # m^2, Area of tank\n",
    "h2_g = h2_1 + D2/2 # m, height from top to centroid\n",
    "I2_g = L2*D2**3/12 # m^4, second moment of area\n",
    "\n",
    "\n",
    "# calculation\n",
    "P2_bot = dy2 * g2* (h2_1 + D2) # N/m^2, P = rho.g.h, h = (h1+D) see fig.\n",
    "F2_r = dy2 *g2*h2_g*A2 # N, Resultant force\n",
    "h2_p = I2_g/(A2*h2_g)+ h2_g\n",
    "\n",
    "\n",
    "# output\n",
    "print(\"The pressure of tank bottom is {0:1.4f}\".format(P2_bot),\"N/m\\u00b2\", \"\\n\")\n",
    "print(\"The resultant force in the tank is {0:1.2f}\".format(F2_r),\"N\",  \"\\n\")  \n",
    "print(\"The location of resultant force is {0:1.2f}\".format(h2_p), \"m\")\n",
    "\n",
    "P2_bot"
   ]
  },
  {
   "cell_type": "markdown",
   "metadata": {
    "slideshow": {
     "slide_type": "slide"
    }
   },
   "source": [
    "### Problem 3 - Vertically submerged tank\n",
    "\n",
    "A lock on a canal is sealed by a gate that is 3.0 m wide (see fig below). The gate is perpendicular to the sides\n",
    "of the lock. When the lock is used there is water on one side of the gate to a depth of 3.5 m,\n",
    "and 2.0 m on the other side. \n",
    "\n",
    "(a) What is the hydrostatic force of the two sides of the gate? \n",
    "\n",
    "(b) At what height from the bed do the two forces act?\n",
    "\n",
    "(c) What is the magnitude of the overall\n",
    "resultant hydrostatic force on the gate and at what height does it act?\n",
    "\n",
    "<img src=\"figures/S2-fig2A.png\" alt=\"Rectangular Tank\" width=\"420\"> "
   ]
  },
  {
   "cell_type": "markdown",
   "metadata": {
    "slideshow": {
     "slide_type": "subslide"
    }
   },
   "source": [
    "### Solution of problem 3 ###\n",
    "\n",
    "The relevant equations are (check slides 18 - 20 of L2).\n",
    "\n",
    "$$\n",
    "F_r = \\rho\\cdot g \\cdot h_g \\cdot A\n",
    "$$\n",
    "\n",
    "\n",
    "Then, we draw the pressure diagram\n",
    "\n",
    "<img src=\"figures/S2-fig2B.png\" alt=\"Rectangular Tank\" width=\"350\">\n",
    "\n",
    "\n",
    "Since both pressure diagram are triangular, $F_r$ acts at 1/3 from the bases - this is only true when pressure diagram is simple such as triangular in this case. \n",
    "\n",
    "Other information are:\n",
    "\n"
   ]
  },
  {
   "cell_type": "code",
   "execution_count": 4,
   "metadata": {
    "slideshow": {
     "slide_type": "subslide"
    }
   },
   "outputs": [
    {
     "name": "stdout",
     "output_type": "stream",
     "text": [
      "The resultant force upstream  is: 1.80E+05 N \n",
      "\n",
      "The resultant force downstream  is: 5.89E+04 N \n",
      "\n",
      "The location of resultant force upstream from the bottom  is 1.17 m \n",
      "\n",
      "The location of resultant force downstream from the bottom  is 0.67 m\n"
     ]
    }
   ],
   "source": [
    "# Given\n",
    "\n",
    "W3 = 3 # m, Gate width\n",
    "h_up = 3.5 # m, upstream water height\n",
    "h_dn = 2 # m, downstream water height\n",
    "dy3 = 1000 # kg/m^3, density of water\n",
    "g3 = 9.81 # m/s^2, gravity\n",
    "\n",
    "# interim calculation \n",
    "hg_up = h_up/2 # m, centroid of surface upstream\n",
    "hg_dn = h_dn/2 # m, centroid of surface downstream\n",
    "A_up = W3*h_up # m^2, area upstream\n",
    "A_dn = W3*h_dn # m^2 area downstream\n",
    "\n",
    "# calculation (a) and (b)\n",
    "F_up = dy3*g3*hg_up*A_up  # N, resultant force up stream\n",
    "F_dn = dy3*g3*hg_dn * A_dn # N, resultant force up stream\n",
    "y_up = 1/3*h_up # m, Upstream location of centre of pressure from bottom.\n",
    "y_dn = 1/3*h_dn # m, downstream Location of centre of pressure from base.\n",
    "\n",
    "# output\n",
    "print(\"The resultant force upstream  is: {0:1.2E}\".format(F_up),\"N\", \"\\n\")\n",
    "print(\"The resultant force downstream  is: {0:1.2E}\".format(F_dn),\"N\", \"\\n\")\n",
    "print(\"The location of resultant force upstream from the bottom  is {0:1.2f}\".format(y_up),\"m\",  \"\\n\")  \n",
    "print(\"The location of resultant force downstream from the bottom  is {0:1.2f}\".format(y_dn),\"m\", )"
   ]
  },
  {
   "cell_type": "code",
   "execution_count": 5,
   "metadata": {
    "slideshow": {
     "slide_type": "subslide"
    }
   },
   "outputs": [
    {
     "name": "stdout",
     "output_type": "stream",
     "text": [
      "The overall resultant force  is: 1.21E+05 N \n",
      "\n",
      "The location of overall resultant force  is: 1.41 m\n"
     ]
    }
   ],
   "source": [
    "# Solution 3C\n",
    "\n",
    "Fr_o = F_up - F_dn # N, +ve means the resultant force is upstream\n",
    "\n",
    "# Moment F * y about O, at the base (see fig)\n",
    "\n",
    "M_up = F_up * y_up # N-m, moment in upstream\n",
    "M_dn = F_dn * y_dn # N-m, moment in downstream\n",
    "\n",
    "# Location of Resultant force (Moment balance equation)\n",
    "y_r = (M_up - M_dn)/Fr_o # m, moment in the system is conserved\n",
    "\n",
    "#output\n",
    "print(\"The overall resultant force  is: {0:1.2E}\".format(Fr_o),\"N\", \"\\n\")\n",
    "print(\"The location of overall resultant force  is: {0:1.2f}\".format(y_r),\"m\")"
   ]
  },
  {
   "cell_type": "markdown",
   "metadata": {
    "slideshow": {
     "slide_type": "slide"
    }
   },
   "source": [
    "### Problem 4 - inclined submerged surface ###\n",
    "\n",
    "A sewer discharges to a river. At the end of the sewer is a circular gate with a diameter ($D$) of 0.6 m. The gate is inclined at an angle of 45 $^\\circ$ to the water surface. The top edge of the gate is 1.0 m below the surface. Calculate\n",
    "\t\t\t\n",
    "(a) the resultant force on the gate caused by the water in the river\n",
    "\n",
    "\n",
    "(b) the vertical depth from the water surface to the centre of pressure.\n",
    "\n",
    "<img src=\"figures/S2-fig3.png\" alt=\"problem 4\" width=300>\n",
    "\n"
   ]
  },
  {
   "cell_type": "markdown",
   "metadata": {
    "slideshow": {
     "slide_type": "subslide"
    }
   },
   "source": [
    "### Solution of Problem 4 ###\n",
    "\n",
    "Reference lecture slides 25-27. Important equations are:\n",
    "\n",
    "$$\n",
    "h_g = h_1 + \\frac{h_{gate}}{2}\n",
    "$$\n",
    "\n",
    "$$\n",
    "F_r = \\rho\\cdot g \\cdot h_g \\cdot A\n",
    "$$\n",
    "\n",
    "$$\n",
    "L_p = \\frac{I_g}{A\\cdot L_g} + L_g\n",
    "$$\n",
    "with $I_g = \\pi R^4/4$ and $L_g = h_g/\\sin\\alpha $. $L_p$ and $h_p$ can be similarly obtained.\n",
    "\n",
    "<img src=\"figures/S2-fig3a.png\" alt=\"problem 4\" width=300>\n"
   ]
  },
  {
   "cell_type": "code",
   "execution_count": 9,
   "metadata": {
    "ExecuteTime": {
     "end_time": "2022-10-20T12:16:28.977707Z",
     "start_time": "2022-10-20T12:16:28.957309Z"
    },
    "slideshow": {
     "slide_type": "subslide"
    }
   },
   "outputs": [
    {
     "name": "stdout",
     "output_type": "stream",
     "text": [
      "The resultant force  is: 1802.91 N\n"
     ]
    }
   ],
   "source": [
    "# Given\n",
    "h4_1 = 0.5 # m, free surface height\n",
    "d4 = 0.6 # m, diameter circular gate\n",
    "apa = 30 # degrees, inclined angle\n",
    "dy4 = 1000 # kg/m^3, density water\n",
    "g4 = 9.81 # m/s^2, gravity\n",
    "\n",
    "# interim calculation\n",
    "h_gate = d4*np.sin(apa*np.pi/180) # m, check np.sin and np. pi and why * pi/180\n",
    "A4 = np.pi/4*(d4)**2 # m^2 area of gate\n",
    "h4_g = h4_1 + h_gate/2 # m, location of surface centroid\n",
    "\n",
    "# calculation (a)\n",
    "F4_r = dy4*g4*h4_g*A4\n",
    "\n",
    "#output\n",
    "print(\"The resultant force  is: {0:1.2f}\".format(F4_r),\"N\") "
   ]
  },
  {
   "cell_type": "code",
   "execution_count": 10,
   "metadata": {
    "slideshow": {
     "slide_type": "subslide"
    }
   },
   "outputs": [
    {
     "name": "stdout",
     "output_type": "stream",
     "text": [
      "The vertical depth to the centre of force  is: 0.67 m\n"
     ]
    }
   ],
   "source": [
    "# solution 4(b) location h_p\n",
    "\n",
    "# interim calculation\n",
    "L4_g = h4_g/np.sin(45*np.pi/180) # m, inclined length from centroid\n",
    "R4 = d4/2 # m , radius of the gate\n",
    "I4_g = np.pi*R4**4/4 # m^4 second moment of area\n",
    "L4_p = I4_g/(A4*L4_g) + L4_g # incline length from centre of force\n",
    "\n",
    "#calculation\n",
    "h4_p = L4_p*np.sin(45*np.pi/180) # vertical height to centre of force\n",
    "\n",
    "#Output\n",
    "print(\"The vertical depth to the centre of force  is: {0:1.2f}\".format(h4_p),\"m\") \n",
    "\n"
   ]
  },
  {
   "cell_type": "markdown",
   "metadata": {
    "slideshow": {
     "slide_type": "slide"
    }
   },
   "source": [
    "### Problem 5 - curved submerged surface ###\n",
    "\n",
    "An open tank which is 4.0 m wide at the top contains\n",
    "oil to a depth of 3.4 m as shown in figure. The\n",
    "bottom part of the tank has curved sides which have\n",
    "to be bolted on. To enable the force on the bolts to be determined, calculate the magnitude of the resultant hydrostatic force (per metre length) on the curved surfaces and its angle to the horizontal. The curved sections are a quarter of a circle of 1.5 m radius, and the oil density is 800 kg/m<sup>3</sup>.\n",
    "\n",
    "<img src=\"figures/S2-fig4.png\" alt=\"problem 5\" width=300> \n",
    "\n"
   ]
  },
  {
   "cell_type": "markdown",
   "metadata": {
    "slideshow": {
     "slide_type": "subslide"
    }
   },
   "source": [
    "### Solution of Problem 5 ###\n",
    "\n",
    "Reference lecture slides 30-31. Important equations are:\n",
    "\n",
    "$$\n",
    "h_g = (D - R) + \\frac{R}{2}\n",
    "$$\n",
    "\n",
    "<img src=\"figures/S2-A4a.png\" alt=\"problem 4\" width=300>\n",
    "\n",
    "$$\n",
    "F_v = \\rho\\cdot g \\cdot h_g \\cdot A\n",
    "$$\n",
    "\n",
    "$$\n",
    "F_h = \\rho\\cdot g \\cdot V\n",
    "$$\n",
    "\n",
    "$$\n",
    "F_r = \\sqrt{F_h^2 + F_v^2}\n",
    "$$\n",
    "\n",
    "and\n",
    "\n",
    "$$\n",
    "\\tan\\phi = \\frac{F_v}{F_h}\n",
    "$$\n",
    "\n"
   ]
  },
  {
   "cell_type": "code",
   "execution_count": 11,
   "metadata": {
    "slideshow": {
     "slide_type": "subslide"
    }
   },
   "outputs": [
    {
     "name": "stdout",
     "output_type": "stream",
     "text": [
      "The horizontal force  is: 36235.36 N \n",
      "\n",
      "The vertical force  is: 31195.80 N \n",
      "\n",
      "The resultant force  is: 47814.01 N \n",
      "\n",
      "The angle of resultant force to the horizontal : 0.70 rad \n",
      "\n",
      "The angle of resultant force to the horizontal : 39.92 deg \n",
      "\n"
     ]
    }
   ],
   "source": [
    "# Given\n",
    "dy5_o = 800 # kg/m^3, density of oil\n",
    "W5 = 4 # m, tank width\n",
    "D5 = 3.4 # m, Depth of wetted surface\n",
    "L5 = 1 # m, length of surface see fig left in question\n",
    "R5_p = 1.5 # m, Curved section radius \n",
    "g5 = 9.81 # m^2/s, gravity \n",
    "\n",
    "# interim calculation\n",
    "A5_p = R5_p*L5 # m^2, projected curved area\n",
    "h5_g = (D5 - R5_p) + R5_p/2\n",
    "V5 =  np.pi/4*R5_p**2*L5 + R5_p*L5*(D5-R5_p) # m^3, circular volume + rectangular volume\n",
    "# Circular vol = pi/4 * R^2 * L and Rect. vol = R*L*(D-R)\n",
    "\n",
    "# Calculations \n",
    "F5_v = dy5_o*g5*h5_g*A5_p # N, Force vertical\n",
    "F5_h = dy5_o*g5*V5 # N, Force horizontal\n",
    "F5_r = np.sqrt(F5_h**2+F5_v**2) # N, Resultant force\n",
    "phi_r = np.tanh(F5_v/F5_h) # rad, angle with horizontal surcface \n",
    "\n",
    "#output\n",
    "print(\"The horizontal force  is: {0:1.2f}\".format(F5_h),\"N\", \"\\n\")\n",
    "print(\"The vertical force  is: {0:1.2f}\".format(F5_v),\"N\", \"\\n\")\n",
    "print(\"The resultant force  is: {0:1.2f}\".format(F5_r),\"N\", \"\\n\")\n",
    "print(\"The angle of resultant force to the horizontal : {0:1.2f}\".format(phi_r),\"rad\", \"\\n\")\n",
    "print(\"The angle of resultant force to the horizontal : {0:1.2f}\".format(phi_r*180/np.pi),\"deg\", \"\\n\")"
   ]
  },
  {
   "cell_type": "markdown",
   "metadata": {
    "slideshow": {
     "slide_type": "slide"
    }
   },
   "source": [
    "### Problem 6 - Forces and Buoyancy\n",
    "\n",
    "A pipe carrying natural gas is to be laid in seabed. The\n",
    "weight of the pipe is 2360 N per metre length and its outside diameter is 1.0 m. The weight of the gas can be ignored. The density of sea water is 1025kg/m<sup>3</sup>. Determine \n",
    "\n",
    "a) whether the pipe will\n",
    "remain on the sea bed or float. \n",
    "\n",
    "b) If it does float,\n",
    "what force would be required to hold the pipe on\n",
    "the sea bed?\n",
    "\n",
    "<img src=\"figures/S2-fig6.png\" alt=\"problem 6\" width=200> "
   ]
  },
  {
   "cell_type": "markdown",
   "metadata": {
    "slideshow": {
     "slide_type": "subslide"
    }
   },
   "source": [
    "### Solution problem 6 ###\n",
    "\n",
    "The relevant equations are in slides L02 37-38. They are:\n",
    "\n",
    "$$\n",
    "F_v = \\rho\\cdot g\\cdot V\n",
    "$$\n",
    "\n",
    "with volume $V$ \n",
    "\n",
    "**Floating** if\n",
    "$$\n",
    "F_v \\geq W\n",
    "$$\n",
    "and **sinking** if\n",
    "\n",
    "$$\n",
    "F_v < W\n",
    "$$\n",
    "\n",
    "Net Force \n",
    "$$\n",
    "F_n = F_v - W\n",
    "$$\n",
    "\n"
   ]
  },
  {
   "cell_type": "code",
   "execution_count": 9,
   "metadata": {
    "slideshow": {
     "slide_type": "subslide"
    }
   },
   "outputs": [
    {
     "name": "stdout",
     "output_type": "stream",
     "text": [
      "It is floating\n",
      "The force required to hold the pipe in sea-bed is:5.54e+03 N/m\n",
      "The force required to hold the pipe in sea-bed is:7.90e+03 N/m\n"
     ]
    }
   ],
   "source": [
    "# Given \n",
    "\n",
    "W6 = 2360 # N, weight of pipeline\n",
    "d6 = 1 # m, diameter of pipe\n",
    "dy6_s = 1025 # kg/m^3, seawater density \n",
    "g6 = 9.81 # m/s^2, Gravity force\n",
    "\n",
    "#interim calculation\n",
    "V6 = np.pi/4*d6**2 # m^3/m = vol./length, \n",
    "F6_v = dy6_s*g6*V6 # N/m, buoyancy force/length\n",
    "\n",
    "# calculation\n",
    "if F6_v >= W6:\n",
    "    print(\"It is floating\")\n",
    "else:\n",
    "    print(\"It is Sinking\") \n",
    "\n",
    "F6_net = F6_v - W6\n",
    "\n",
    "# output\n",
    "print(\"The force required to hold the pipe in sea-bed is:{0:1.2e}\".format(F6_net), \"N/m\")\n",
    "print(\"The force required to hold the pipe in sea-bed is:{0:1.2e}\".format(F6_v), \"N/m\")"
   ]
  },
  {
   "cell_type": "markdown",
   "metadata": {
    "slideshow": {
     "slide_type": "slide"
    }
   },
   "source": [
    "### Assignment Problem 1 - Basic pressure calculation\n",
    "\n",
    "Rectangular container of a width of 1.5 m and a length of 2.0 m is filled to a depth of 1.0 m with oil. If the mass of oil is 2000 Kg, Calculate:\n",
    "\n",
    "a) the pressure at the bottom of the tank. \n",
    "\n",
    "b) the weight of the oil?\n",
    "\n"
   ]
  },
  {
   "cell_type": "code",
   "execution_count": null,
   "metadata": {},
   "outputs": [],
   "source": []
  },
  {
   "cell_type": "markdown",
   "metadata": {
    "slideshow": {
     "slide_type": "slide"
    }
   },
   "source": [
    "### Assignment Problem 2 - Vertically submerged body- pressure calculation\n",
    "\n",
    "A rectangular culvert (a large pipe) 1.8 m wide by 1.0 m high discharges to a river. At the end\n",
    "of the culvert is a rectangular gate which seals off the culvert when the river is in flood (as in\n",
    "Fig.). The gate hangs vertically from hinges at the top. If the flood level in the river rises to\n",
    "1.9 m above the top of the gate, calculate the magnitude and location of the resultant hydrostatic\n",
    "force on the gate caused by the water in the river.\n",
    "\n",
    "<img src=\"figures/S2-A2.png\" alt=\"Assignment 2\" width =\"400\">"
   ]
  },
  {
   "cell_type": "markdown",
   "metadata": {
    "slideshow": {
     "slide_type": "slide"
    }
   },
   "source": [
    "### Assignment Problem 3 - Inclined submerged body- pressure calculation\n",
    "\n",
    "A sewer discharges to a river. At the end of the sewer is a circular gate with a diameter ($D$) of 0.6 m. The gate is inclined at an angle of 25 $^\\circ$ to the water surface. The top edge of the gate is 1.0 m below the surface. Calculate\n",
    "\t\t\t\n",
    "(a) the resultant force on the gate caused by the water in the\n",
    "\t\t\t\triver\n",
    "(b) the vertical depth from the water surface to the centre of pressure.\n",
    "\n",
    "(c) compare your result with that of problem 4, and provide your opinion.\n",
    "\n",
    "<img src=\"figures/S2-fig3.png\" alt=\"problem 4\" width=400>\n"
   ]
  },
  {
   "cell_type": "markdown",
   "metadata": {
    "slideshow": {
     "slide_type": "slide"
    }
   },
   "source": [
    "### Assignment Problem 4 - Curved submerged body- pressure calculation\n",
    "\n",
    "A surface consists of a quarter of a circle of radius 2.0 m (see Fig.). It is located with its top edge\n",
    "1.5 m below the water surface. Calculate the magnitude and direction of the resultant force on\n",
    "the upper surface.\n",
    "\n",
    "<img src=\"figures/S2-A4.png\" alt=\"problem 4\" width=400>\n",
    "\n",
    "\t\t\t\n"
   ]
  }
 ],
 "metadata": {
  "celltoolbar": "Slideshow",
  "hide_input": false,
  "kernel_info": {
   "name": "python3"
  },
  "kernelspec": {
   "display_name": "Python 3 (ipykernel)",
   "language": "python",
   "name": "python3"
  },
  "language_info": {
   "codemirror_mode": {
    "name": "ipython",
    "version": 3
   },
   "file_extension": ".py",
   "mimetype": "text/x-python",
   "name": "python",
   "nbconvert_exporter": "python",
   "pygments_lexer": "ipython3",
   "version": "3.11.4"
  },
  "latex_envs": {
   "LaTeX_envs_menu_present": true,
   "autoclose": false,
   "autocomplete": false,
   "bibliofile": "biblio.bib",
   "cite_by": "apalike",
   "current_citInitial": 1,
   "eqLabelWithNumbers": false,
   "eqNumInitial": 1,
   "hotkeys": {
    "equation": "Ctrl-E",
    "itemize": "Ctrl-I"
   },
   "labels_anchors": false,
   "latex_user_defs": false,
   "report_style_numbering": false,
   "user_envs_cfg": false
  },
  "nteract": {
   "version": "0.15.0"
  },
  "rise": {
   "backimage": "figures/HTWlogo_s.png",
   "footer": "<h4>Lecture 02, 12.10.2023, P. Yadav</h4>",
   "header": "<h2>Hydraulic Modelling</h2>",
   "scroll": true,
   "theme": "serif"
  },
  "varInspector": {
   "cols": {
    "lenName": 16,
    "lenType": 16,
    "lenVar": 40
   },
   "kernels_config": {
    "python": {
     "delete_cmd_postfix": "",
     "delete_cmd_prefix": "del ",
     "library": "var_list.py",
     "varRefreshCmd": "print(var_dic_list())"
    },
    "r": {
     "delete_cmd_postfix": ") ",
     "delete_cmd_prefix": "rm(",
     "library": "var_list.r",
     "varRefreshCmd": "cat(var_dic_list()) "
    }
   },
   "types_to_exclude": [
    "module",
    "function",
    "builtin_function_or_method",
    "instance",
    "_Feature"
   ],
   "window_display": false
  }
 },
 "nbformat": 4,
 "nbformat_minor": 4
}
